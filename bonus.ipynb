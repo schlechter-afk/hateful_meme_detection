{
 "cells": [
  {
   "cell_type": "code",
   "execution_count": 16,
   "metadata": {},
   "outputs": [],
   "source": [
    "from ultralytics import YOLO\n",
    "from pathlib import Path\n",
    "from PIL import Image\n",
    "import torch\n",
    "import numpy as np\n",
    "import cv2\n",
    "import tensorflow as tf\n",
    "import os\n",
    "import keras_ocr\n",
    "import matplotlib.pyplot as plt\n",
    "import pandas as pd\n",
    "import seaborn as sns\n",
    "from tqdm import tqdm\n",
    "from collections import Counter\n",
    "import networkx as nx\n",
    "from itertools import combinations\n",
    "import torch.nn as nn\n",
    "import torch.optim as optim\n",
    "import json\n",
    "from transformers import pipeline\n",
    "import torchvision.transforms as transforms\n",
    "from torch.utils.data import Dataset, DataLoader\n",
    "from torchvision.transforms import Lambda\n",
    "from pathlib import Path\n",
    "from sklearn.metrics import classification_report, confusion_matrix, accuracy_score\n",
    "from sklearn.metrics import roc_auc_score, roc_curve, f1_score, precision_score, recall_score, auc, average_precision_score, precision_recall_curve\n",
    "import seaborn as sns\n",
    "import ast"
   ]
  },
  {
   "cell_type": "code",
   "execution_count": 38,
   "metadata": {},
   "outputs": [
    {
     "name": "stderr",
     "output_type": "stream",
     "text": [
      "No model was supplied, defaulted to distilbert-base-uncased-finetuned-sst-2-english and revision af0f99b (https://huggingface.co/distilbert-base-uncased-finetuned-sst-2-english).\n",
      "Using a pipeline without specifying a model name and revision in production is not recommended.\n",
      "No model was supplied, defaulted to distilbert-base-uncased-finetuned-sst-2-english and revision af0f99b (https://huggingface.co/distilbert-base-uncased-finetuned-sst-2-english).\n",
      "Using a pipeline without specifying a model name and revision in production is not recommended.\n"
     ]
    }
   ],
   "source": [
    "class HatefulMemesDatasetCombined(Dataset):\n",
    "    def __init__(self, json_path, img_folder, transform=None):\n",
    "        self.data = []\n",
    "        with open(json_path, 'r') as f:\n",
    "            for line in f:\n",
    "                sample = json.loads(line)\n",
    "                self.data.append(sample)\n",
    "\n",
    "        self.img_folder = Path(img_folder)\n",
    "        self.transform = transform\n",
    "        self.sentiment_pipeline = pipeline(\"sentiment-analysis\")\n",
    "\n",
    "    def __len__(self):\n",
    "        return len(self.data)\n",
    "\n",
    "    def __getitem__(self, idx):\n",
    "        img_path = self.data[idx]['img']\n",
    "        img = Image.open(self.img_folder / img_path)\n",
    "\n",
    "        label = torch.tensor(self.data[idx]['label'], dtype=torch.float32)\n",
    "        text = self.data[idx]['text']\n",
    "        \n",
    "        sentiment_score = self.sentiment_pipeline(text)[0]['score']\n",
    "\n",
    "        if self.transform:\n",
    "            img = self.transform(img)\n",
    "\n",
    "        return {'image': img, 'label': label, 'text': text, 'sentiment_score': sentiment_score}\n",
    "\n",
    "transform = transforms.Compose([\n",
    "    Lambda(lambda x: x.convert('RGB')),\n",
    "    transforms.Resize((224, 224)),\n",
    "    transforms.ToTensor(),\n",
    "])\n",
    "\n",
    "train_dataset = HatefulMemesDatasetCombined(json_path='./hateful_memes/train.jsonl', img_folder='./hateful_memes', transform=transform)\n",
    "test_dataset = HatefulMemesDatasetCombined(json_path='./hateful_memes/test_unseen.jsonl', img_folder='./hateful_memes', transform=transform)\n",
    "\n",
    "train_loader = DataLoader(train_dataset, batch_size=32, shuffle=True)\n",
    "test_loader = DataLoader(test_dataset, batch_size=32, shuffle=False)"
   ]
  },
  {
   "cell_type": "code",
   "execution_count": 39,
   "metadata": {},
   "outputs": [],
   "source": [
    "class SentimentClassifier(nn.Module):\n",
    "    def __init__(self, input_size, hidden_size=256):\n",
    "        super(SentimentClassifier, self).__init__()\n",
    "\n",
    "        self.fc = nn.Sequential(\n",
    "            nn.Linear(input_size, hidden_size),\n",
    "            nn.BatchNorm1d(hidden_size),\n",
    "            nn.ReLU(),\n",
    "            nn.Linear(hidden_size, 1),\n",
    "            nn.BatchNorm1d(1),\n",
    "            nn.Sigmoid()\n",
    "        )\n",
    "\n",
    "    def forward(self, sentiment_score):\n",
    "        sentiment_score = sentiment_score.float()\n",
    "        output = self.fc(sentiment_score)\n",
    "        return output\n",
    "\n",
    "input_size = 1  \n",
    "model = SentimentClassifier(input_size=input_size, hidden_size=512)\n",
    "criterion = nn.BCELoss()\n",
    "optimizer = optim.Adam(model.parameters(), lr=0.001)\n",
    "\n",
    "num_epochs = 2"
   ]
  },
  {
   "cell_type": "code",
   "execution_count": 40,
   "metadata": {},
   "outputs": [
    {
     "name": "stderr",
     "output_type": "stream",
     "text": [
      "Epoch 1/2: 100%|██████████| 266/266 [13:32<00:00,  3.05s/it]\n"
     ]
    },
    {
     "name": "stdout",
     "output_type": "stream",
     "text": [
      "Epoch [1/2], Loss: 0.6901987791061401\n"
     ]
    },
    {
     "name": "stderr",
     "output_type": "stream",
     "text": [
      "Epoch 2/2: 100%|██████████| 266/266 [12:27<00:00,  2.81s/it]"
     ]
    },
    {
     "name": "stdout",
     "output_type": "stream",
     "text": [
      "Epoch [2/2], Loss: 0.7292046546936035\n"
     ]
    },
    {
     "name": "stderr",
     "output_type": "stream",
     "text": [
      "\n"
     ]
    }
   ],
   "source": [
    "for epoch in range(num_epochs):\n",
    "    model.train()\n",
    "    for batch in tqdm(train_loader, desc=f'Epoch {epoch + 1}/{num_epochs}'):\n",
    "        sentiment_score = batch['sentiment_score']\n",
    "        label = batch['label']\n",
    "\n",
    "        output = model(sentiment_score.view(-1, 1))  # Reshape to (batch_size, 1)\n",
    "        loss = criterion(output, label.unsqueeze(1))\n",
    "\n",
    "        optimizer.zero_grad()\n",
    "        loss.backward()\n",
    "        optimizer.step()\n",
    "\n",
    "    print(f'Epoch [{epoch + 1}/{num_epochs}], Loss: {loss.item()}')"
   ]
  },
  {
   "cell_type": "code",
   "execution_count": 41,
   "metadata": {},
   "outputs": [
    {
     "name": "stdout",
     "output_type": "stream",
     "text": [
      "Test Accuracy: 57.95%\n"
     ]
    }
   ],
   "source": [
    "model.eval()\n",
    "with torch.no_grad():\n",
    "    predictions = []\n",
    "    true_labels = []\n",
    "    for batch in test_loader:\n",
    "        sentiment_score = batch['sentiment_score']\n",
    "        label = batch['label']\n",
    "\n",
    "        output = model(sentiment_score.view(-1, 1))  # Reshape to (batch_size, 1)\n",
    "\n",
    "        predicted = (output > 0.5).float()\n",
    "\n",
    "        predictions.extend(predicted.squeeze().tolist())\n",
    "        true_labels.extend(label.tolist())\n",
    "\n",
    "accuracy = accuracy_score(true_labels, predictions)\n",
    "print(f'Test Accuracy: {accuracy * 100:.2f}%')"
   ]
  },
  {
   "cell_type": "code",
   "execution_count": null,
   "metadata": {},
   "outputs": [],
   "source": []
  },
  {
   "cell_type": "markdown",
   "metadata": {},
   "source": [
    "# Trying for Improvements"
   ]
  },
  {
   "cell_type": "code",
   "execution_count": 29,
   "metadata": {},
   "outputs": [
    {
     "name": "stderr",
     "output_type": "stream",
     "text": [
      "Epoch 1/10: 100%|██████████| 266/266 [02:38<00:00,  1.68it/s]\n"
     ]
    },
    {
     "name": "stdout",
     "output_type": "stream",
     "text": [
      "Epoch [1/10], Loss: 0.5159925222396851\n"
     ]
    },
    {
     "name": "stderr",
     "output_type": "stream",
     "text": [
      "Epoch 2/10: 100%|██████████| 266/266 [02:36<00:00,  1.70it/s]\n"
     ]
    },
    {
     "name": "stdout",
     "output_type": "stream",
     "text": [
      "Epoch [2/10], Loss: 0.7161892056465149\n"
     ]
    },
    {
     "name": "stderr",
     "output_type": "stream",
     "text": [
      "Epoch 3/10: 100%|██████████| 266/266 [02:35<00:00,  1.72it/s]\n"
     ]
    },
    {
     "name": "stdout",
     "output_type": "stream",
     "text": [
      "Epoch [3/10], Loss: 0.41970300674438477\n"
     ]
    },
    {
     "name": "stderr",
     "output_type": "stream",
     "text": [
      "Epoch 4/10: 100%|██████████| 266/266 [02:34<00:00,  1.72it/s]\n"
     ]
    },
    {
     "name": "stdout",
     "output_type": "stream",
     "text": [
      "Epoch [4/10], Loss: 0.5791805386543274\n"
     ]
    },
    {
     "name": "stderr",
     "output_type": "stream",
     "text": [
      "Epoch 5/10: 100%|██████████| 266/266 [02:35<00:00,  1.71it/s]\n"
     ]
    },
    {
     "name": "stdout",
     "output_type": "stream",
     "text": [
      "Epoch [5/10], Loss: 0.7007245421409607\n"
     ]
    },
    {
     "name": "stderr",
     "output_type": "stream",
     "text": [
      "Epoch 6/10: 100%|██████████| 266/266 [02:34<00:00,  1.72it/s]\n"
     ]
    },
    {
     "name": "stdout",
     "output_type": "stream",
     "text": [
      "Epoch [6/10], Loss: 0.5981111526489258\n"
     ]
    },
    {
     "name": "stderr",
     "output_type": "stream",
     "text": [
      "Epoch 7/10: 100%|██████████| 266/266 [02:38<00:00,  1.68it/s]\n"
     ]
    },
    {
     "name": "stdout",
     "output_type": "stream",
     "text": [
      "Epoch [7/10], Loss: 0.5328210592269897\n"
     ]
    },
    {
     "name": "stderr",
     "output_type": "stream",
     "text": [
      "Epoch 8/10: 100%|██████████| 266/266 [03:18<00:00,  1.34it/s]\n"
     ]
    },
    {
     "name": "stdout",
     "output_type": "stream",
     "text": [
      "Epoch [8/10], Loss: 0.4269869923591614\n"
     ]
    },
    {
     "name": "stderr",
     "output_type": "stream",
     "text": [
      "Epoch 9/10: 100%|██████████| 266/266 [03:04<00:00,  1.44it/s]\n"
     ]
    },
    {
     "name": "stdout",
     "output_type": "stream",
     "text": [
      "Epoch [9/10], Loss: 0.5294850468635559\n"
     ]
    },
    {
     "name": "stderr",
     "output_type": "stream",
     "text": [
      "Epoch 10/10: 100%|██████████| 266/266 [04:10<00:00,  1.06it/s]"
     ]
    },
    {
     "name": "stdout",
     "output_type": "stream",
     "text": [
      "Epoch [10/10], Loss: 0.5241050124168396\n"
     ]
    },
    {
     "name": "stderr",
     "output_type": "stream",
     "text": [
      "\n"
     ]
    }
   ],
   "source": [
    "class HatefulMemesDatasetCombined(Dataset):\n",
    "    def __init__(self, json_path, img_folder, text_embeddings_path, image_embeddings_path, transform=None):\n",
    "        self.data = []\n",
    "        with open(json_path, 'r') as f:\n",
    "            for line in f:\n",
    "                sample = json.loads(line)\n",
    "                self.data.append(sample)\n",
    "\n",
    "        self.text_embeddings = pd.read_csv(text_embeddings_path)\n",
    "        self.image_embeddings = pd.read_csv(image_embeddings_path)\n",
    "        self.img_folder = Path(img_folder)\n",
    "        self.transform = transform\n",
    "\n",
    "    def __len__(self):\n",
    "        return len(self.data)\n",
    "\n",
    "    def __getitem__(self, idx):\n",
    "        img_path = self.data[idx]['img']\n",
    "        img = Image.open(self.img_folder / img_path)\n",
    "\n",
    "        label = torch.tensor(self.data[idx]['label'], dtype=torch.float32)\n",
    "        text_id = int(self.data[idx]['id'])\n",
    "\n",
    "        text_vectorized_text_str = self.text_embeddings.loc[self.text_embeddings['id'] == text_id, 'vectorized_text'].values[0]\n",
    "        text_vectorized_text_list = [float(value) for value in text_vectorized_text_str[1:-1].split()]\n",
    "\n",
    "        image_vectorized_text_str = self.image_embeddings.loc[self.image_embeddings['id'] == text_id, 'image_embeddings'].values[0]\n",
    "        image_vectorized_text_list = [float(value) for value in image_vectorized_text_str[1:-1].split()]\n",
    "\n",
    "        text_vectorized_text = torch.tensor(text_vectorized_text_list)\n",
    "        image_vectorized_text = torch.tensor(image_vectorized_text_list)\n",
    "\n",
    "        if self.transform:\n",
    "            img = self.transform(img)\n",
    "\n",
    "        return {'image': img, 'label': label, 'text_vectorized_text': text_vectorized_text, 'image_vectorized_text': image_vectorized_text}\n",
    "\n",
    "class CombinedModel(nn.Module):\n",
    "    def __init__(self, text_input_size, image_input_size, hidden_size=256):\n",
    "        super(CombinedModel, self).__init__()\n",
    "        self.lstm = nn.LSTM(text_input_size, hidden_size, batch_first=True)\n",
    "        self.image_fc = nn.Sequential(\n",
    "            nn.Linear(image_input_size, hidden_size),\n",
    "            nn.ReLU()\n",
    "        )\n",
    "        self.fc = nn.Sequential(\n",
    "            nn.Linear(hidden_size * 2, 128),\n",
    "            nn.ReLU(),\n",
    "            nn.Linear(128, 1),\n",
    "            nn.Sigmoid()\n",
    "        )\n",
    "\n",
    "    def forward(self, text_vectorized, image_vectorized):\n",
    "        lstm_out, _ = self.lstm(text_vectorized.unsqueeze(1))  # Adding batch and sequence dimensions\n",
    "        lstm_out = lstm_out[:, -1, :]\n",
    "        image_features = self.image_fc(image_vectorized)\n",
    "        combined_features = torch.cat((lstm_out, image_features), dim=1)\n",
    "        output = self.fc(combined_features)\n",
    "        return output\n",
    "\n",
    "transform = transforms.Compose([\n",
    "    Lambda(lambda x: x.convert('RGB')),\n",
    "    transforms.Resize((224, 224)),\n",
    "    transforms.ToTensor(),\n",
    "])\n",
    "\n",
    "text_embeddings_path = './Text-Embeddings.csv'\n",
    "image_embeddings_path = './Image-Embedding.csv'\n",
    "\n",
    "train_dataset = HatefulMemesDatasetCombined(json_path='./hateful_memes/train.jsonl', img_folder='./hateful_memes', text_embeddings_path=text_embeddings_path, image_embeddings_path=image_embeddings_path, transform=transform)\n",
    "\n",
    "train_loader = DataLoader(train_dataset, batch_size=32, shuffle=True)\n",
    "\n",
    "text_input_size = len(train_dataset[0]['text_vectorized_text'])\n",
    "image_input_size = len(train_dataset[0]['image_vectorized_text'])\n",
    "model = CombinedModel(text_input_size=text_input_size, image_input_size=image_input_size, hidden_size=256)\n",
    "\n",
    "criterion = nn.BCELoss()\n",
    "optimizer = optim.Adam(model.parameters(), lr=0.001)\n",
    "\n",
    "num_epochs = 10\n",
    "for epoch in range(num_epochs):\n",
    "    model.train()\n",
    "    for batch in tqdm(train_loader, desc=f'Epoch {epoch + 1}/{num_epochs}'):\n",
    "        text_vectorized_text = batch['text_vectorized_text']\n",
    "        image_vectorized_text = batch['image_vectorized_text']\n",
    "        label = batch['label']\n",
    "\n",
    "        output = model(text_vectorized_text, image_vectorized_text)\n",
    "        loss = criterion(output, label.unsqueeze(1))\n",
    "\n",
    "        optimizer.zero_grad()\n",
    "        loss.backward()\n",
    "        optimizer.step()\n",
    "\n",
    "    print(f'Epoch [{epoch + 1}/{num_epochs}], Loss: {loss.item()}')"
   ]
  },
  {
   "cell_type": "code",
   "execution_count": 36,
   "metadata": {},
   "outputs": [
    {
     "name": "stderr",
     "output_type": "stream",
     "text": [
      "Evaluating: 100%|██████████| 32/32 [00:34<00:00,  1.08s/it]\n"
     ]
    },
    {
     "name": "stdout",
     "output_type": "stream",
     "text": [
      "Test Accuracy: 60.50%\n",
      "F1 Score:  0.5811240721102864\n",
      "              precision    recall  f1-score   support\n",
      "\n",
      "         0.0       0.61      0.65      0.63       510\n",
      "         1.0       0.60      0.56      0.58       490\n",
      "\n",
      "    accuracy                           0.60      1000\n",
      "   macro avg       0.60      0.60      0.60      1000\n",
      "weighted avg       0.60      0.60      0.60      1000\n",
      "\n"
     ]
    },
    {
     "data": {
      "image/png": "[encoded data removed]",
      "text/plain": [
       "<Figure size 640x480 with 2 Axes>"
      ]
     },
     "metadata": {},
     "output_type": "display_data"
    }
   ],
   "source": [
    "image_embeddings_path_test = './Image-Embedding-Test.csv'\n",
    "text_embeddings_path_test = './Text-Embeddings_test.csv'\n",
    "\n",
    "test_dataset = HatefulMemesDatasetCombined(json_path='./hateful_memes/test_seen.jsonl', img_folder='./hateful_memes', text_embeddings_path=text_embeddings_path_test, image_embeddings_path=image_embeddings_path_test, transform=transform)\n",
    "test_loader = DataLoader(test_dataset, batch_size=32, shuffle=False)\n",
    "\n",
    "model.eval()\n",
    "predictions = []\n",
    "true_labels = []\n",
    "\n",
    "with torch.no_grad():\n",
    "    for batch in tqdm(test_loader, desc='Evaluating'):\n",
    "        text_vectorized_text = batch['text_vectorized_text']\n",
    "        image_vectorized_text = batch['image_vectorized_text']\n",
    "        label = batch['label']\n",
    "\n",
    "        output = model(text_vectorized_text, image_vectorized_text)\n",
    "\n",
    "        predicted = (output > 0.5).float()\n",
    "\n",
    "        predictions.extend(predicted.squeeze().tolist())\n",
    "        true_labels.extend(label.tolist())\n",
    "\n",
    "accuracy = accuracy_score(true_labels, predictions)\n",
    "print(f'Test Accuracy: {accuracy * 100:.2f}%')\n",
    "\n",
    "print(\"F1 Score: \", f1_score(true_labels, predictions))\n",
    "\n",
    "print(classification_report(true_labels, predictions))\n",
    "\n",
    "cm = confusion_matrix(true_labels, predictions)\n",
    "sns.heatmap(cm, annot=True, fmt='d', cmap='Blues')\n",
    "plt.xlabel('Predicted Label')\n",
    "plt.ylabel('True Label')\n",
    "plt.show()"
   ]
  },
  {
   "cell_type": "code",
   "execution_count": 34,
   "metadata": {},
   "outputs": [
    {
     "name": "stdout",
     "output_type": "stream",
     "text": [
      "ROC-AUC Score: 0.6041016406562626\n"
     ]
    },
    {
     "data": {
      "image/png": "[encoded data removed]",
      "text/plain": [
       "<Figure size 800x800 with 1 Axes>"
      ]
     },
     "metadata": {},
     "output_type": "display_data"
    }
   ],
   "source": [
    "roc_auc = roc_auc_score(true_labels, predictions)\n",
    "print(f'ROC-AUC Score: {roc_auc}')\n",
    "\n",
    "fpr, tpr, _ = roc_curve(true_labels, predictions)\n",
    "plt.figure(figsize=(8, 8))\n",
    "plt.plot(fpr, tpr, color='darkorange', lw=2, label='ROC curve (area = {:.2f})'.format(roc_auc))\n",
    "plt.plot([0, 1], [0, 1], color='navy', lw=2, linestyle='--')\n",
    "plt.xlabel('False Positive Rate')\n",
    "plt.ylabel('True Positive Rate')\n",
    "plt.title('Receiver Operating Characteristic (ROC) Curve')\n",
    "plt.legend(loc='lower right')\n",
    "plt.show()"
   ]
  }
 ],
 "metadata": {
  "kernelspec": {
   "display_name": "Python 3",
   "language": "python",
   "name": "python3"
  },
  "language_info": {
   "codemirror_mode": {
    "name": "ipython",
    "version": 3
   },
   "file_extension": ".py",
   "mimetype": "text/x-python",
   "name": "python",
   "nbconvert_exporter": "python",
   "pygments_lexer": "ipython3",
   "version": "3.9.6"
  }
 },
 "nbformat": 4,
 "nbformat_minor": 2
}
